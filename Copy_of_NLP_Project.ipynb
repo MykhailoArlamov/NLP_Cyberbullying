{
  "cells": [
    {
      "cell_type": "markdown",
      "metadata": {
        "id": "5q45UXzFc2ZH"
      },
      "source": [
        "To-Do List:\n",
        "- Preprocessing: Tokenization, Lemmatization, Stopword removal\n",
        "- Represent the Text: TF-IDF, Word2Vec or Bert\n",
        "- Models: SVM or LSTM\n",
        "- Evaluation: Precision, Recall, F1"
      ]
    },
    {
      "cell_type": "code",
      "execution_count": null,
      "metadata": {
        "id": "m90H83Fm2ku8"
      },
      "outputs": [],
      "source": [
        "# Do we need this?\n",
        "# pip install requests"
      ]
    },
    {
      "cell_type": "markdown",
      "metadata": {
        "id": "USNK7x1xdFmL"
      },
      "source": [
        "# SENTIMENT ANALYSIS TASK ON ROTTEN TOMATOES DATABASE"
      ]
    },
    {
      "cell_type": "markdown",
      "metadata": {
        "id": "3kfyZTFedUVZ"
      },
      "source": [
        "## Exploratory Data Analysis"
      ]
    },
    {
      "cell_type": "markdown",
      "metadata": {
        "id": "BMevVVEAdXpS"
      },
      "source": [
        "Firstly, we import the movie review dataset and the necessary libraries."
      ]
    },
    {
      "cell_type": "code",
      "execution_count": null,
      "metadata": {
        "id": "LohWUk6-4-r9"
      },
      "outputs": [],
      "source": [
        "import pandas as pd\n",
        "import re"
      ]
    },
    {
      "cell_type": "code",
      "execution_count": null,
      "metadata": {
        "id": "C7rr4GdL8Hx-"
      },
      "outputs": [],
      "source": [
        "splits = {'train': 'train.parquet', 'validation': 'validation.parquet', 'test': 'test.parquet'}\n",
        "df = pd.read_parquet(\"hf://datasets/cornell-movie-review-data/rotten_tomatoes/\" + splits[\"train\"])\n",
        "validation_df = pd.read_parquet(\"hf://datasets/cornell-movie-review-data/rotten_tomatoes/\" + splits[\"validation\"])\n",
        "test_df = pd.read_parquet(\"hf://datasets/cornell-movie-review-data/rotten_tomatoes/\" + splits[\"test\"])"
      ]
    },
    {
      "cell_type": "markdown",
      "metadata": {
        "id": "h3qZo2FhdkYi"
      },
      "source": [
        "We visualize the first 10 entries in our dataset."
      ]
    },
    {
      "cell_type": "code",
      "execution_count": null,
      "metadata": {
        "colab": {
          "base_uri": "https://localhost:8080/",
          "height": 363
        },
        "id": "ahXXkVBL41-H",
        "outputId": "e4119261-a494-4146-e199-274c7a0781c7"
      },
      "outputs": [
        {
          "data": {
            "application/vnd.google.colaboratory.intrinsic+json": {
              "summary": "{\n  \"name\": \"df\",\n  \"rows\": 8530,\n  \"fields\": [\n    {\n      \"column\": \"text\",\n      \"properties\": {\n        \"dtype\": \"string\",\n        \"num_unique_values\": 8530,\n        \"samples\": [\n          \"it would take a complete moron to foul up a screen adaptation of oscar wilde's classic satire .\",\n          \"so we got ten little indians meets friday the 13th by way of clean and sober , filmed on the set of carpenter's the thing and loaded with actors you're most likely to find on the next inevitable incarnation of the love boat .\",\n          \"unfortunately , heartbreak hospital wants to convey the same kind of haughtiness in its own sketchy material but this territory has already been explored previously with better aplomb and sardonic wit .\"\n        ],\n        \"semantic_type\": \"\",\n        \"description\": \"\"\n      }\n    },\n    {\n      \"column\": \"label\",\n      \"properties\": {\n        \"dtype\": \"number\",\n        \"std\": 0,\n        \"min\": 0,\n        \"max\": 1,\n        \"num_unique_values\": 2,\n        \"samples\": [\n          0,\n          1\n        ],\n        \"semantic_type\": \"\",\n        \"description\": \"\"\n      }\n    }\n  ]\n}",
              "type": "dataframe",
              "variable_name": "df"
            },
            "text/html": [
              "\n",
              "  <div id=\"df-06436889-4dc1-448e-b66d-a35ed8fb7972\" class=\"colab-df-container\">\n",
              "    <div>\n",
              "<style scoped>\n",
              "    .dataframe tbody tr th:only-of-type {\n",
              "        vertical-align: middle;\n",
              "    }\n",
              "\n",
              "    .dataframe tbody tr th {\n",
              "        vertical-align: top;\n",
              "    }\n",
              "\n",
              "    .dataframe thead th {\n",
              "        text-align: right;\n",
              "    }\n",
              "</style>\n",
              "<table border=\"1\" class=\"dataframe\">\n",
              "  <thead>\n",
              "    <tr style=\"text-align: right;\">\n",
              "      <th></th>\n",
              "      <th>text</th>\n",
              "      <th>label</th>\n",
              "    </tr>\n",
              "  </thead>\n",
              "  <tbody>\n",
              "    <tr>\n",
              "      <th>0</th>\n",
              "      <td>the rock is destined to be the 21st century's ...</td>\n",
              "      <td>1</td>\n",
              "    </tr>\n",
              "    <tr>\n",
              "      <th>1</th>\n",
              "      <td>the gorgeously elaborate continuation of \" the...</td>\n",
              "      <td>1</td>\n",
              "    </tr>\n",
              "    <tr>\n",
              "      <th>2</th>\n",
              "      <td>effective but too-tepid biopic</td>\n",
              "      <td>1</td>\n",
              "    </tr>\n",
              "    <tr>\n",
              "      <th>3</th>\n",
              "      <td>if you sometimes like to go to the movies to h...</td>\n",
              "      <td>1</td>\n",
              "    </tr>\n",
              "    <tr>\n",
              "      <th>4</th>\n",
              "      <td>emerges as something rare , an issue movie tha...</td>\n",
              "      <td>1</td>\n",
              "    </tr>\n",
              "    <tr>\n",
              "      <th>5</th>\n",
              "      <td>the film provides some great insight into the ...</td>\n",
              "      <td>1</td>\n",
              "    </tr>\n",
              "    <tr>\n",
              "      <th>6</th>\n",
              "      <td>offers that rare combination of entertainment ...</td>\n",
              "      <td>1</td>\n",
              "    </tr>\n",
              "    <tr>\n",
              "      <th>7</th>\n",
              "      <td>perhaps no picture ever made has more literall...</td>\n",
              "      <td>1</td>\n",
              "    </tr>\n",
              "    <tr>\n",
              "      <th>8</th>\n",
              "      <td>steers turns in a snappy screenplay that curls...</td>\n",
              "      <td>1</td>\n",
              "    </tr>\n",
              "    <tr>\n",
              "      <th>9</th>\n",
              "      <td>take care of my cat offers a refreshingly diff...</td>\n",
              "      <td>1</td>\n",
              "    </tr>\n",
              "  </tbody>\n",
              "</table>\n",
              "</div>\n",
              "    <div class=\"colab-df-buttons\">\n",
              "\n",
              "  <div class=\"colab-df-container\">\n",
              "    <button class=\"colab-df-convert\" onclick=\"convertToInteractive('df-06436889-4dc1-448e-b66d-a35ed8fb7972')\"\n",
              "            title=\"Convert this dataframe to an interactive table.\"\n",
              "            style=\"display:none;\">\n",
              "\n",
              "  <svg xmlns=\"http://www.w3.org/2000/svg\" height=\"24px\" viewBox=\"0 -960 960 960\">\n",
              "    <path d=\"M120-120v-720h720v720H120Zm60-500h600v-160H180v160Zm220 220h160v-160H400v160Zm0 220h160v-160H400v160ZM180-400h160v-160H180v160Zm440 0h160v-160H620v160ZM180-180h160v-160H180v160Zm440 0h160v-160H620v160Z\"/>\n",
              "  </svg>\n",
              "    </button>\n",
              "\n",
              "  <style>\n",
              "    .colab-df-container {\n",
              "      display:flex;\n",
              "      gap: 12px;\n",
              "    }\n",
              "\n",
              "    .colab-df-convert {\n",
              "      background-color: #E8F0FE;\n",
              "      border: none;\n",
              "      border-radius: 50%;\n",
              "      cursor: pointer;\n",
              "      display: none;\n",
              "      fill: #1967D2;\n",
              "      height: 32px;\n",
              "      padding: 0 0 0 0;\n",
              "      width: 32px;\n",
              "    }\n",
              "\n",
              "    .colab-df-convert:hover {\n",
              "      background-color: #E2EBFA;\n",
              "      box-shadow: 0px 1px 2px rgba(60, 64, 67, 0.3), 0px 1px 3px 1px rgba(60, 64, 67, 0.15);\n",
              "      fill: #174EA6;\n",
              "    }\n",
              "\n",
              "    .colab-df-buttons div {\n",
              "      margin-bottom: 4px;\n",
              "    }\n",
              "\n",
              "    [theme=dark] .colab-df-convert {\n",
              "      background-color: #3B4455;\n",
              "      fill: #D2E3FC;\n",
              "    }\n",
              "\n",
              "    [theme=dark] .colab-df-convert:hover {\n",
              "      background-color: #434B5C;\n",
              "      box-shadow: 0px 1px 3px 1px rgba(0, 0, 0, 0.15);\n",
              "      filter: drop-shadow(0px 1px 2px rgba(0, 0, 0, 0.3));\n",
              "      fill: #FFFFFF;\n",
              "    }\n",
              "  </style>\n",
              "\n",
              "    <script>\n",
              "      const buttonEl =\n",
              "        document.querySelector('#df-06436889-4dc1-448e-b66d-a35ed8fb7972 button.colab-df-convert');\n",
              "      buttonEl.style.display =\n",
              "        google.colab.kernel.accessAllowed ? 'block' : 'none';\n",
              "\n",
              "      async function convertToInteractive(key) {\n",
              "        const element = document.querySelector('#df-06436889-4dc1-448e-b66d-a35ed8fb7972');\n",
              "        const dataTable =\n",
              "          await google.colab.kernel.invokeFunction('convertToInteractive',\n",
              "                                                    [key], {});\n",
              "        if (!dataTable) return;\n",
              "\n",
              "        const docLinkHtml = 'Like what you see? Visit the ' +\n",
              "          '<a target=\"_blank\" href=https://colab.research.google.com/notebooks/data_table.ipynb>data table notebook</a>'\n",
              "          + ' to learn more about interactive tables.';\n",
              "        element.innerHTML = '';\n",
              "        dataTable['output_type'] = 'display_data';\n",
              "        await google.colab.output.renderOutput(dataTable, element);\n",
              "        const docLink = document.createElement('div');\n",
              "        docLink.innerHTML = docLinkHtml;\n",
              "        element.appendChild(docLink);\n",
              "      }\n",
              "    </script>\n",
              "  </div>\n",
              "\n",
              "\n",
              "    <div id=\"df-94c99e1d-5e9f-43f8-9942-8c454fe537f4\">\n",
              "      <button class=\"colab-df-quickchart\" onclick=\"quickchart('df-94c99e1d-5e9f-43f8-9942-8c454fe537f4')\"\n",
              "                title=\"Suggest charts\"\n",
              "                style=\"display:none;\">\n",
              "\n",
              "<svg xmlns=\"http://www.w3.org/2000/svg\" height=\"24px\"viewBox=\"0 0 24 24\"\n",
              "     width=\"24px\">\n",
              "    <g>\n",
              "        <path d=\"M19 3H5c-1.1 0-2 .9-2 2v14c0 1.1.9 2 2 2h14c1.1 0 2-.9 2-2V5c0-1.1-.9-2-2-2zM9 17H7v-7h2v7zm4 0h-2V7h2v10zm4 0h-2v-4h2v4z\"/>\n",
              "    </g>\n",
              "</svg>\n",
              "      </button>\n",
              "\n",
              "<style>\n",
              "  .colab-df-quickchart {\n",
              "      --bg-color: #E8F0FE;\n",
              "      --fill-color: #1967D2;\n",
              "      --hover-bg-color: #E2EBFA;\n",
              "      --hover-fill-color: #174EA6;\n",
              "      --disabled-fill-color: #AAA;\n",
              "      --disabled-bg-color: #DDD;\n",
              "  }\n",
              "\n",
              "  [theme=dark] .colab-df-quickchart {\n",
              "      --bg-color: #3B4455;\n",
              "      --fill-color: #D2E3FC;\n",
              "      --hover-bg-color: #434B5C;\n",
              "      --hover-fill-color: #FFFFFF;\n",
              "      --disabled-bg-color: #3B4455;\n",
              "      --disabled-fill-color: #666;\n",
              "  }\n",
              "\n",
              "  .colab-df-quickchart {\n",
              "    background-color: var(--bg-color);\n",
              "    border: none;\n",
              "    border-radius: 50%;\n",
              "    cursor: pointer;\n",
              "    display: none;\n",
              "    fill: var(--fill-color);\n",
              "    height: 32px;\n",
              "    padding: 0;\n",
              "    width: 32px;\n",
              "  }\n",
              "\n",
              "  .colab-df-quickchart:hover {\n",
              "    background-color: var(--hover-bg-color);\n",
              "    box-shadow: 0 1px 2px rgba(60, 64, 67, 0.3), 0 1px 3px 1px rgba(60, 64, 67, 0.15);\n",
              "    fill: var(--button-hover-fill-color);\n",
              "  }\n",
              "\n",
              "  .colab-df-quickchart-complete:disabled,\n",
              "  .colab-df-quickchart-complete:disabled:hover {\n",
              "    background-color: var(--disabled-bg-color);\n",
              "    fill: var(--disabled-fill-color);\n",
              "    box-shadow: none;\n",
              "  }\n",
              "\n",
              "  .colab-df-spinner {\n",
              "    border: 2px solid var(--fill-color);\n",
              "    border-color: transparent;\n",
              "    border-bottom-color: var(--fill-color);\n",
              "    animation:\n",
              "      spin 1s steps(1) infinite;\n",
              "  }\n",
              "\n",
              "  @keyframes spin {\n",
              "    0% {\n",
              "      border-color: transparent;\n",
              "      border-bottom-color: var(--fill-color);\n",
              "      border-left-color: var(--fill-color);\n",
              "    }\n",
              "    20% {\n",
              "      border-color: transparent;\n",
              "      border-left-color: var(--fill-color);\n",
              "      border-top-color: var(--fill-color);\n",
              "    }\n",
              "    30% {\n",
              "      border-color: transparent;\n",
              "      border-left-color: var(--fill-color);\n",
              "      border-top-color: var(--fill-color);\n",
              "      border-right-color: var(--fill-color);\n",
              "    }\n",
              "    40% {\n",
              "      border-color: transparent;\n",
              "      border-right-color: var(--fill-color);\n",
              "      border-top-color: var(--fill-color);\n",
              "    }\n",
              "    60% {\n",
              "      border-color: transparent;\n",
              "      border-right-color: var(--fill-color);\n",
              "    }\n",
              "    80% {\n",
              "      border-color: transparent;\n",
              "      border-right-color: var(--fill-color);\n",
              "      border-bottom-color: var(--fill-color);\n",
              "    }\n",
              "    90% {\n",
              "      border-color: transparent;\n",
              "      border-bottom-color: var(--fill-color);\n",
              "    }\n",
              "  }\n",
              "</style>\n",
              "\n",
              "      <script>\n",
              "        async function quickchart(key) {\n",
              "          const quickchartButtonEl =\n",
              "            document.querySelector('#' + key + ' button');\n",
              "          quickchartButtonEl.disabled = true;  // To prevent multiple clicks.\n",
              "          quickchartButtonEl.classList.add('colab-df-spinner');\n",
              "          try {\n",
              "            const charts = await google.colab.kernel.invokeFunction(\n",
              "                'suggestCharts', [key], {});\n",
              "          } catch (error) {\n",
              "            console.error('Error during call to suggestCharts:', error);\n",
              "          }\n",
              "          quickchartButtonEl.classList.remove('colab-df-spinner');\n",
              "          quickchartButtonEl.classList.add('colab-df-quickchart-complete');\n",
              "        }\n",
              "        (() => {\n",
              "          let quickchartButtonEl =\n",
              "            document.querySelector('#df-94c99e1d-5e9f-43f8-9942-8c454fe537f4 button');\n",
              "          quickchartButtonEl.style.display =\n",
              "            google.colab.kernel.accessAllowed ? 'block' : 'none';\n",
              "        })();\n",
              "      </script>\n",
              "    </div>\n",
              "\n",
              "    </div>\n",
              "  </div>\n"
            ],
            "text/plain": [
              "                                                text  label\n",
              "0  the rock is destined to be the 21st century's ...      1\n",
              "1  the gorgeously elaborate continuation of \" the...      1\n",
              "2                     effective but too-tepid biopic      1\n",
              "3  if you sometimes like to go to the movies to h...      1\n",
              "4  emerges as something rare , an issue movie tha...      1\n",
              "5  the film provides some great insight into the ...      1\n",
              "6  offers that rare combination of entertainment ...      1\n",
              "7  perhaps no picture ever made has more literall...      1\n",
              "8  steers turns in a snappy screenplay that curls...      1\n",
              "9  take care of my cat offers a refreshingly diff...      1"
            ]
          },
          "execution_count": 41,
          "metadata": {},
          "output_type": "execute_result"
        }
      ],
      "source": [
        "df.head(10)"
      ]
    },
    {
      "cell_type": "markdown",
      "metadata": {
        "id": "QVjWy5LWdqgt"
      },
      "source": [
        "We can see that the dataset is composed of reviews and the labels of these reviews. Positive reviews are labelled 1 and negative reviews are labelled 0."
      ]
    },
    {
      "cell_type": "code",
      "execution_count": null,
      "metadata": {
        "colab": {
          "base_uri": "https://localhost:8080/"
        },
        "id": "vegaxnly45Sp",
        "outputId": "7cd43780-8d8d-4db4-8611-b439da195c48"
      },
      "outputs": [
        {
          "data": {
            "text/plain": [
              "(8530, 2)"
            ]
          },
          "execution_count": 42,
          "metadata": {},
          "output_type": "execute_result"
        }
      ],
      "source": [
        "df.shape"
      ]
    },
    {
      "cell_type": "code",
      "execution_count": null,
      "metadata": {
        "colab": {
          "base_uri": "https://localhost:8080/",
          "height": 467
        },
        "id": "OYQQLDV18SDZ",
        "outputId": "0d2a6659-35b0-4dbb-ee4c-e11d6455ab3c"
      },
      "outputs": [
        {
          "data": {
            "image/png": "[encoded data removed]",
            "text/plain": [
              "<Figure size 640x480 with 1 Axes>"
            ]
          },
          "metadata": {},
          "output_type": "display_data"
        }
      ],
      "source": [
        "label_counts = df.label.value_counts()\n",
        "\n",
        "import matplotlib.pyplot as plt\n",
        "plt.figure()\n",
        "label_counts.plot(kind='bar')\n",
        "plt.xlabel('Sentiment')\n",
        "plt.ylabel('Count')\n",
        "plt.title('Sentiment Distribution')\n",
        "plt.show()\n"
      ]
    },
    {
      "cell_type": "markdown",
      "metadata": {
        "id": "D5yFG-hDeb9Y"
      },
      "source": [
        "It can be seen that we have a balanced distribution in our labels."
      ]
    },
    {
      "cell_type": "markdown",
      "metadata": {
        "id": "BhmoKRChiqPo"
      },
      "source": []
    },
    {
      "cell_type": "markdown",
      "metadata": {
        "id": "HCsog7TognpE"
      },
      "source": [
        "## Preprocessing"
      ]
    },
    {
      "cell_type": "markdown",
      "metadata": {
        "id": "YS_5sBdmgyvr"
      },
      "source": [
        "As for the preprocessing, first of all we need to put the all the words in lowercase and then tokenize them"
      ]
    },
    {
      "cell_type": "markdown",
      "metadata": {
        "id": "iZmYUAPCjVgo"
      },
      "source": []
    },
    {
      "cell_type": "markdown",
      "metadata": {
        "id": "KehOBrzCjXLM"
      },
      "source": [
        "## Neural networks approach"
      ]
    },
    {
      "cell_type": "markdown",
      "metadata": {
        "id": "NxCjDH5wlzC6"
      },
      "source": [
        "Put to lowercase\n",
        "Tokenize\n",
        "Embeddings from GloVe or Word2Vec\n",
        "Build the network"
      ]
    },
    {
      "cell_type": "code",
      "execution_count": null,
      "metadata": {
        "id": "im9xRMDnjdk1"
      },
      "outputs": [],
      "source": [
        "from tokenizers import Tokenizer\n",
        "from tokenizers.models import WordLevel\n",
        "from tokenizers.trainers import WordLevelTrainer\n",
        "from tokenizers.pre_tokenizers import Whitespace\n",
        "from tokenizers import decoders\n",
        "from tokenizers.normalizers import Lowercase\n",
        "\n",
        "\n",
        "tokenizer = Tokenizer(WordLevel(unk_token=\"[UNK]\"))\n",
        "tokenizer.normalizer = Lowercase()\n",
        "tokenizer.pre_tokenizer = Whitespace()\n",
        "\n",
        "trainer = WordLevelTrainer(\n",
        "    vocab_size=25000, special_tokens=[\"[UNK]\", \"[CLS]\", \"[SEP]\", \"[PAD]\", \"[MASK]\"]\n",
        ")\n",
        "tokenizer.train_from_iterator(iterator=df['text'], trainer=trainer)\n",
        "tokenizer.save(\"tokenizer.json\")"
      ]
    },
    {
      "cell_type": "code",
      "execution_count": null,
      "metadata": {
        "colab": {
          "base_uri": "https://localhost:8080/"
        },
        "id": "O9MFh3afegpn",
        "outputId": "49424137-37c1-41c6-b56f-4c4b2a11728c"
      },
      "outputs": [
        {
          "data": {
            "text/plain": [
              "['a', 'test', 'sentence']"
            ]
          },
          "execution_count": 45,
          "metadata": {},
          "output_type": "execute_result"
        }
      ],
      "source": [
        "tokenizer.encode(\"a Test sentence\").tokens"
      ]
    },
    {
      "cell_type": "markdown",
      "metadata": {
        "id": "SbM8i1LCqZ4Z"
      },
      "source": [
        "I will get the embeddings from Glove model to use them in my rnn since i used the wordLevel tokenizer"
      ]
    },
    {
      "cell_type": "code",
      "execution_count": null,
      "metadata": {
        "colab": {
          "base_uri": "https://localhost:8080/"
        },
        "id": "ac4nYKAjm6FH",
        "outputId": "c7c1fa2f-8426-4843-bb7f-8c98cb73eac4"
      },
      "outputs": [
        {
          "data": {
            "text/plain": [
              "False"
            ]
          },
          "execution_count": 46,
          "metadata": {},
          "output_type": "execute_result"
        }
      ],
      "source": [
        "import os\n",
        "os.path.exists(\"glove_data/glove.6B.100d.txt\")"
      ]
    },
    {
      "cell_type": "code",
      "execution_count": null,
      "metadata": {
        "colab": {
          "base_uri": "https://localhost:8080/"
        },
        "id": "wa0Zcrponi_1",
        "outputId": "fbac7807-7ac4-4c26-bfcf-eca1e4a2bf81"
      },
      "outputs": [
        {
          "name": "stdout",
          "output_type": "stream",
          "text": [
            "Drive already mounted at /content/drive; to attempt to forcibly remount, call drive.mount(\"/content/drive\", force_remount=True).\n"
          ]
        }
      ],
      "source": [
        "from google.colab import drive\n",
        "drive.mount('/content/drive')\n"
      ]
    },
    {
      "cell_type": "code",
      "execution_count": null,
      "metadata": {
        "colab": {
          "base_uri": "https://localhost:8080/"
        },
        "id": "dXvxO38ko0xW",
        "outputId": "f1ba5533-b088-42ef-8525-afbb69f2f368"
      },
      "outputs": [
        {
          "name": "stdout",
          "output_type": "stream",
          "text": [
            "Loading from local file...\n",
            "Loaded 400000 word vectors.\n"
          ]
        }
      ],
      "source": [
        "import numpy as np\n",
        "glove_path = \"/content/drive/MyDrive/glove.6B.100d.txt\"\n",
        "if not os.path.exists(\"/content/drive/MyDrive/glove.6B.100d.txt\"):\n",
        "    print(\"Downloading GloVe...\")\n",
        "    import requests, zipfile, io\n",
        "    glove_url = \"https://nlp.stanford.edu/data/glove.6B.zip\"\n",
        "    response = requests.get(glove_url)\n",
        "    zip_file = zipfile.ZipFile(io.BytesIO(response.content))\n",
        "    zip_file.extractall(\"glove_data\")  # Extract once\n",
        "    os.rename(\"glove_data/glove.6B.100d.txt\", glove_path)  # Move to working dir\n",
        "    print(\"Download complete!\")\n",
        "else:\n",
        "    print(\"Loading from local file...\")\n",
        "\n",
        "# Load embeddings (works for both first and subsequent runs)\n",
        "embeddings_index = {}\n",
        "with open(glove_path, 'r', encoding='utf-8') as f:\n",
        "    for line in f:\n",
        "        word, *vector = line.split()\n",
        "        embeddings_index[word] = np.array(vector, dtype=np.float32)\n",
        "\n",
        "print(f\"Loaded {len(embeddings_index)} word vectors.\")"
      ]
    },
    {
      "cell_type": "code",
      "execution_count": null,
      "metadata": {
        "colab": {
          "base_uri": "https://localhost:8080/"
        },
        "id": "AV93yCmey_5_",
        "outputId": "c09c5f98-3f01-4f67-fef2-b88cfff46951"
      },
      "outputs": [
        {
          "name": "stdout",
          "output_type": "stream",
          "text": [
            "Vocabulary size: 16551\n"
          ]
        }
      ],
      "source": [
        "vocab = tokenizer.get_vocab()\n",
        "vocab_size = len(vocab) + 1 #for padding token\n",
        "print(\"Vocabulary size:\", vocab_size)\n",
        "embedding_dim = 100\n",
        "\n",
        "# Build embedding matrix\n",
        "embedding_matrix = np.zeros((vocab_size, embedding_dim))\n",
        "word_index = {word: index for index, word in vocab.items()}\n"
      ]
    },
    {
      "cell_type": "code",
      "execution_count": null,
      "metadata": {
        "colab": {
          "base_uri": "https://localhost:8080/"
        },
        "id": "P1TIBUy80580",
        "outputId": "c4d9019f-a9cc-4a45-bc23-ad3b94020277"
      },
      "outputs": [
        {
          "name": "stdout",
          "output_type": "stream",
          "text": [
            "Embedding matrix shape: (16551, 100)\n"
          ]
        }
      ],
      "source": [
        "\n",
        "#for i, word in word_index.items():\n",
        "#    if word in embeddings_index:\n",
        "#        embedding_matrix[i] = embeddings_index[word]\n",
        "\n",
        "for i, word in word_index.items():\n",
        "    if i < vocab_size:\n",
        "        embedding_vector = embeddings_index.get(word.lower())\n",
        "        if embedding_vector is not None:\n",
        "            embedding_matrix[i] = embedding_vector\n",
        "\n",
        "print(\"Embedding matrix shape:\", embedding_matrix.shape)"
      ]
    },
    {
      "cell_type": "code",
      "execution_count": null,
      "metadata": {
        "colab": {
          "base_uri": "https://localhost:8080/"
        },
        "id": "XXLQOOWQxsuR",
        "outputId": "21664c61-8838-4d40-90ce-436e53f0ef5c"
      },
      "outputs": [
        {
          "name": "stdout",
          "output_type": "stream",
          "text": [
            "-6166.090886128237\n",
            "15945\n"
          ]
        }
      ],
      "source": [
        "print(np.sum(embedding_matrix))  # Should be >> 0\n",
        "print(np.count_nonzero(np.count_nonzero(embedding_matrix, axis=1)))"
      ]
    },
    {
      "cell_type": "code",
      "execution_count": null,
      "metadata": {
        "id": "w4PuAWYXxpTA"
      },
      "outputs": [],
      "source": [
        "import tensorflow as tf\n",
        "from tensorflow.keras.layers import Embedding\n",
        "model = tf.keras.Sequential([\n",
        "  tf.keras.layers.Embedding(\n",
        "        input_dim=vocab_size,\n",
        "        output_dim=embedding_dim,\n",
        "        weights = [embedding_matrix],\n",
        "       trainable = True),\n",
        "tf.keras.layers.Bidirectional(tf.keras.layers.LSTM(64)),\n",
        "  tf.keras.layers.Dense(64, activation='relu'),\n",
        "  tf.keras.layers.Dropout(0.5),\n",
        "  tf.keras.layers.Dense(1, activation='sigmoid')\n",
        "])\n",
        "\n",
        "model.compile(loss='binary_crossentropy', optimizer='adam', metrics=['accuracy'])"
      ]
    },
    {
      "cell_type": "code",
      "execution_count": null,
      "metadata": {
        "colab": {
          "base_uri": "https://localhost:8080/"
        },
        "id": "wHS9Htnl3sfx",
        "outputId": "3adfebd3-b3ac-451c-bc86-90434eb00585"
      },
      "outputs": [
        {
          "name": "stdout",
          "output_type": "stream",
          "text": [
            "Max sequence length: 68\n"
          ]
        }
      ],
      "source": [
        "from tensorflow.keras.preprocessing.sequence import pad_sequences\n",
        "\n",
        "train_sequences = [tokenizer.encode(text).ids for text in df['text']]\n",
        "validation_sequences = [tokenizer.encode(text).ids for text in validation_df['text']]\n",
        "\n",
        "# Pad sequences to a fixed length (choose an appropriate max_length)\n",
        "# A common approach is to find the maximum sequence length in your training data\n",
        "max_length = max(len(seq) for seq in train_sequences)\n",
        "print(f\"Max sequence length: {max_length}\")\n",
        "padded_train_sequences = pad_sequences(train_sequences, maxlen=max_length, padding='post')\n",
        "padded_validation_sequences = pad_sequences(validation_sequences, maxlen=max_length, padding='post')\n"
      ]
    },
    {
      "cell_type": "code",
      "execution_count": null,
      "metadata": {
        "colab": {
          "base_uri": "https://localhost:8080/"
        },
        "id": "Bjdw_zuq7B6I",
        "outputId": "bced99fe-f5ea-41a8-d0ae-05fc6e38dfa8"
      },
      "outputs": [
        {
          "data": {
            "text/plain": [
              "array([    6,   627,    16,  2925,    12,    29,     6,  3269,   868,\n",
              "          11,    14,   110,    46,  5128,    46,     9,    18,    75,\n",
              "          11,    14,   248,    12,    80,     8,  3809,    65,  2606,\n",
              "          42,  1393,  2176,     7,  2112,    13, 10017,  1642,  6812,\n",
              "          50,   997, 14848,     5,     0,     0,     0,     0,     0,\n",
              "           0,     0,     0,     0,     0,     0,     0,     0,     0,\n",
              "           0,     0,     0,     0,     0,     0,     0,     0,     0,\n",
              "           0,     0,     0,     0,     0], dtype=int32)"
            ]
          },
          "execution_count": 95,
          "metadata": {},
          "output_type": "execute_result"
        }
      ],
      "source": [
        "padded_train_sequences[0]"
      ]
    },
    {
      "cell_type": "code",
      "execution_count": null,
      "metadata": {
        "colab": {
          "background_save": true,
          "base_uri": "https://localhost:8080/"
        },
        "id": "v7k_N1AXx7bZ",
        "outputId": "4bae1971-5f84-482a-dc9d-7419172947c2"
      },
      "outputs": [
        {
          "name": "stdout",
          "output_type": "stream",
          "text": [
            "Epoch 1/10\n",
            "\u001b[1m267/267\u001b[0m \u001b[32m━━━━━━━━━━━━━━━━━━━━\u001b[0m\u001b[37m\u001b[0m \u001b[1m65s\u001b[0m 107ms/step - accuracy: 0.5814 - loss: 1.7120 - val_accuracy: 0.7458 - val_loss: 0.6162\n",
            "Epoch 2/10\n",
            "\u001b[1m267/267\u001b[0m \u001b[32m━━━━━━━━━━━━━━━━━━━━\u001b[0m\u001b[37m\u001b[0m \u001b[1m40s\u001b[0m 104ms/step - accuracy: 0.7573 - loss: 0.6051 - val_accuracy: 0.7589 - val_loss: 0.5522\n",
            "Epoch 3/10\n",
            "\u001b[1m267/267\u001b[0m \u001b[32m━━━━━━━━━━━━━━━━━━━━\u001b[0m\u001b[37m\u001b[0m \u001b[1m41s\u001b[0m 103ms/step - accuracy: 0.8686 - loss: 0.3916 - val_accuracy: 0.7683 - val_loss: 0.5483\n",
            "Epoch 4/10\n",
            "\u001b[1m267/267\u001b[0m \u001b[32m━━━━━━━━━━━━━━━━━━━━\u001b[0m\u001b[37m\u001b[0m \u001b[1m41s\u001b[0m 103ms/step - accuracy: 0.9317 - loss: 0.2667 - val_accuracy: 0.7608 - val_loss: 0.6616\n",
            "Epoch 5/10\n",
            "\u001b[1m267/267\u001b[0m \u001b[32m━━━━━━━━━━━━━━━━━━━━\u001b[0m\u001b[37m\u001b[0m \u001b[1m41s\u001b[0m 104ms/step - accuracy: 0.9588 - loss: 0.1819 - val_accuracy: 0.7702 - val_loss: 0.7241\n",
            "Epoch 6/10\n",
            "\u001b[1m267/267\u001b[0m \u001b[32m━━━━━━━━━━━━━━━━━━━━\u001b[0m\u001b[37m\u001b[0m \u001b[1m41s\u001b[0m 104ms/step - accuracy: 0.9767 - loss: 0.1346 - val_accuracy: 0.7561 - val_loss: 0.8290\n"
          ]
        }
      ],
      "source": [
        "history = model.fit(padded_train_sequences, df['label'], epochs=10, validation_data=(padded_validation_sequences, validation_df['label']))"
      ]
    },
    {
      "cell_type": "code",
      "execution_count": null,
      "metadata": {
        "id": "YSqRSz2b3NWV"
      },
      "outputs": [],
      "source": []
    }
  ],
  "metadata": {
    "colab": {
      "provenance": []
    },
    "kernelspec": {
      "display_name": "Python 3",
      "name": "python3"
    },
    "language_info": {
      "name": "python"
    }
  },
  "nbformat": 4,
  "nbformat_minor": 0
}